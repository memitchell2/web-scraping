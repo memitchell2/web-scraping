{
 "cells": [
  {
   "cell_type": "code",
   "execution_count": 1,
   "id": "2482fa03-2e29-43d1-a481-fae5c5942bee",
   "metadata": {},
   "outputs": [],
   "source": [
    "import scrape\n",
    "%load_ext autoreload\n",
    "%autoreload 2"
   ]
  },
  {
   "cell_type": "code",
   "execution_count": 2,
   "id": "c4463680-732e-4a86-aa1c-c8e7099c6366",
   "metadata": {},
   "outputs": [],
   "source": [
    "x = 0"
   ]
  },
  {
   "cell_type": "code",
   "execution_count": 3,
   "id": "e0bcc093-3ce3-4f9c-8089-8853454d4ffa",
   "metadata": {},
   "outputs": [
    {
     "data": {
      "text/plain": [
       "['A', 'B', 'C', 'D']"
      ]
     },
     "execution_count": 3,
     "metadata": {},
     "output_type": "execute_result"
    }
   ],
   "source": [
    "import pandas as pd\n",
    "import scrape\n",
    "\n",
    "df = pd.DataFrame([\n",
    "    [0,1,1,0],\n",
    "    [0,0,0,1],\n",
    "    [0,0,0,1],\n",
    "    [0,0,1,0],\n",
    "], index=[\"A\", \"B\", \"C\", \"D\"], columns=[\"A\", \"B\", \"C\", \"D\"])\n",
    "\n",
    "m = scrape.MatrixSearcher(df)\n",
    "m.bfs_search('A')\n",
    "m.order\n"
   ]
  },
  {
   "cell_type": "code",
   "execution_count": 4,
   "id": "127f7c98-0608-4a01-97b4-1541e0201308",
   "metadata": {},
   "outputs": [
    {
     "name": "stdout",
     "output_type": "stream",
     "text": [
      "MADTOWN\n"
     ]
    }
   ],
   "source": [
    "# test visit_and_get_children\n",
    "f = scrape.FileSearcher()\n",
    "\n",
    "assert f.visit_and_get_children(\"1.txt\") == ['2.txt', '5.txt']\n",
    "\n",
    "\n",
    "# test bfs\n",
    "f = scrape.FileSearcher()\n",
    "f.bfs_search(\"1.txt\")\n",
    "msg = f.concat_order()\n",
    "print(msg)\n",
    "assert msg == \"MADTOWN\"\n"
   ]
  },
  {
   "cell_type": "code",
   "execution_count": 5,
   "id": "7bd27831-2281-4b15-83db-9fb9c64ac84f",
   "metadata": {},
   "outputs": [],
   "source": [
    "df = pd.DataFrame([\n",
    "    [0,1,1,0],\n",
    "    [0,0,0,1],\n",
    "    [0,0,0,1],\n",
    "    [0,0,1,0],\n",
    "], index=[\"A\", \"B\", \"C\", \"D\"], columns=[\"A\", \"B\", \"C\", \"D\"])\n",
    "\n",
    "m = scrape.MatrixSearcher(df)\n",
    "\n",
    "assert m.visit_and_get_children(\"B\") == [\"D\"]\n",
    "x = x + 1\n",
    "\n",
    "m.dfs_search(\"C\")\n",
    "assert m.order == ['C', 'D']\n",
    "x += 1\n",
    "m.dfs_search(\"C\")\n",
    "assert m.order == ['C', 'D']\n"
   ]
  },
  {
   "cell_type": "code",
   "execution_count": 6,
   "id": "1e600701-e6a2-49b2-9ae2-7656cfe1cb29",
   "metadata": {},
   "outputs": [
    {
     "name": "stdout",
     "output_type": "stream",
     "text": [
      "['2.txt', '5.txt'] ['M'] M\n"
     ]
    }
   ],
   "source": [
    "import scrape\n",
    "f = scrape.FileSearcher()\n",
    "print(f.visit_and_get_children(\"1.txt\"), f.order, f.concat_order())\n"
   ]
  },
  {
   "cell_type": "code",
   "execution_count": 7,
   "id": "4292fe0f-0a1a-4f91-9059-1e86146cb12d",
   "metadata": {},
   "outputs": [
    {
     "name": "stdout",
     "output_type": "stream",
     "text": [
      "MATWNOD\n"
     ]
    }
   ],
   "source": [
    "f = scrape.FileSearcher()\n",
    "f.dfs_search(\"1.txt\")\n",
    "msg = f.concat_order()\n",
    "print(msg)"
   ]
  },
  {
   "cell_type": "code",
   "execution_count": 8,
   "id": "e2dce2c8-e533-4739-8c52-446639d58c54",
   "metadata": {},
   "outputs": [
    {
     "name": "stdout",
     "output_type": "stream",
     "text": [
      "['http://34.42.84.189:5000/Node_2.html', 'http://34.42.84.189:5000/Node_5.html']\n",
      "    clue   latitude   longitude                          description Page 2  \\\n",
      "0    8.0  51.180315   -1.829659                 Stonehenge in the UK    NaN   \n",
      "1    2.0  27.987586   86.925002                 Mt. Everest in Nepal    NaN   \n",
      "2    4.0  34.134117 -118.321495                 Hollywood Sign in LA    NaN   \n",
      "3    5.0  38.655100   90.061800                 Cahokia Mounds in IL    NaN   \n",
      "4    9.0  40.748400   73.985700          Empire State Building in NY    NaN   \n",
      "5    4.0  29.975300   31.137600        Great Sphinx of Giza in Egypt    NaN   \n",
      "6    8.0  35.360600  138.727400                  Mount Fiji in Japan    NaN   \n",
      "7    0.0  27.175100   78.042100               The Taj Mahal in India    NaN   \n",
      "8    9.0  51.503200   -0.119500                       The London Eye    NaN   \n",
      "9    1.0  47.557600   10.749800     Neuschwanstein Castle in Germany    NaN   \n",
      "10   5.0  38.624700   90.184800        The Gateway Arch in St. Louis    NaN   \n",
      "11   3.0  30.328500   35.444400                      Petra in Jordan    NaN   \n",
      "12   2.0  41.480800   82.683400                    Cedar Point in OH    NaN   \n",
      "13   6.0  43.070010  -89.409450          Quick Trip on Monroe Street    NaN   \n",
      "14   4.0  37.819900 -122.478600        The Golden gate in California    NaN   \n",
      "15   7.0  41.890200   12.492200                The Colosseum in Rome    NaN   \n",
      "16   3.0  -3.067400   37.355600            Mt. Kilimanjaro in Africa    NaN   \n",
      "17   5.0  11.349300  142.199600         Mariana Trench deepest Point    NaN   \n",
      "18   7.0  43.060600  -89.410000           Henry Vilas Zoo in Madison    NaN   \n",
      "19   1.0  36.117300 -115.176100      The Caesars Palace in Las Vegas    NaN   \n",
      "20   1.0  46.852300 -121.760300             Mount Rainier in Seattle    NaN   \n",
      "21   1.0  43.089034  -89.416128              Picnic Point in Madison    NaN   \n",
      "22   7.0  38.105507  126.910613               Silver Beach in Hawaii    NaN   \n",
      "23   1.0  65.044901  -16.712836  Shore of a Volcanic Lake in Iceland    NaN   \n",
      "24   3.0  48.860945    2.335773                  The Louvre in Paris    NaN   \n",
      "25   5.0  37.434183 -122.321990      Redwood forest in San Francisco    NaN   \n",
      "\n",
      "   Page 5 Page 3 Page 6 Page 4 Page 7  \n",
      "0     NaN    NaN    NaN    NaN    NaN  \n",
      "1     NaN    NaN    NaN    NaN    NaN  \n",
      "2     NaN    NaN    NaN    NaN    NaN  \n",
      "3     NaN    NaN    NaN    NaN    NaN  \n",
      "4     NaN    NaN    NaN    NaN    NaN  \n",
      "5     NaN    NaN    NaN    NaN    NaN  \n",
      "6     NaN    NaN    NaN    NaN    NaN  \n",
      "7     NaN    NaN    NaN    NaN    NaN  \n",
      "8     NaN    NaN    NaN    NaN    NaN  \n",
      "9     NaN    NaN    NaN    NaN    NaN  \n",
      "10    NaN    NaN    NaN    NaN    NaN  \n",
      "11    NaN    NaN    NaN    NaN    NaN  \n",
      "12    NaN    NaN    NaN    NaN    NaN  \n",
      "13    NaN    NaN    NaN    NaN    NaN  \n",
      "14    NaN    NaN    NaN    NaN    NaN  \n",
      "15    NaN    NaN    NaN    NaN    NaN  \n",
      "16    NaN    NaN    NaN    NaN    NaN  \n",
      "17    NaN    NaN    NaN    NaN    NaN  \n",
      "18    NaN    NaN    NaN    NaN    NaN  \n",
      "19    NaN    NaN    NaN    NaN    NaN  \n",
      "20    NaN    NaN    NaN    NaN    NaN  \n",
      "21    NaN    NaN    NaN    NaN    NaN  \n",
      "22    NaN    NaN    NaN    NaN    NaN  \n",
      "23    NaN    NaN    NaN    NaN    NaN  \n",
      "24    NaN    NaN    NaN    NaN    NaN  \n",
      "25    NaN    NaN    NaN    NaN    NaN  \n"
     ]
    }
   ],
   "source": [
    "import os\n",
    "from selenium.webdriver.chrome.options import Options\n",
    "from selenium.webdriver.chrome.service import Service\n",
    "from selenium import webdriver\n",
    "import scrape\n",
    "\n",
    "# kill previous chrome instance if still around (to conserve memory)\n",
    "os.system(\"pkill -f -9 chromium\")\n",
    "\n",
    "options = Options()\n",
    "options.headless = True\n",
    "service = Service(executable_path=\"chromium.chromedriver\")\n",
    "driver = webdriver.Chrome(options=options, service=service)\n",
    "\n",
    "# TODO: use IP address of your VM\n",
    "start_url = \"http://34.42.84.189:5000/Node_1.html\"\n",
    "\n",
    "s = scrape.WebSearcher(driver)\n",
    "print(s.visit_and_get_children(start_url))\n",
    "\n",
    "s = scrape.WebSearcher(driver)\n",
    "s.bfs_search(start_url)\n",
    "\n",
    "print(s.table())\n",
    "\n",
    "driver.close()\n"
   ]
  },
  {
   "cell_type": "code",
   "execution_count": null,
   "id": "dec206ce-bb20-45f2-a039-8c125e5e1d0f",
   "metadata": {},
   "outputs": [],
   "source": []
  }
 ],
 "metadata": {
  "kernelspec": {
   "display_name": "Python 3 (ipykernel)",
   "language": "python",
   "name": "python3"
  },
  "language_info": {
   "codemirror_mode": {
    "name": "ipython",
    "version": 3
   },
   "file_extension": ".py",
   "mimetype": "text/x-python",
   "name": "python",
   "nbconvert_exporter": "python",
   "pygments_lexer": "ipython3",
   "version": "3.10.12"
  }
 },
 "nbformat": 4,
 "nbformat_minor": 5
}
